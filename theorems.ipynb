{
 "cells": [
  {
   "cell_type": "code",
   "execution_count": 96,
   "metadata": {},
   "outputs": [],
   "source": [
    "import time\n",
    "import math\n",
    "import numpy as np\n",
    "import scipy.stats\n",
    "import itertools"
   ]
  },
  {
   "cell_type": "code",
   "execution_count": 131,
   "metadata": {},
   "outputs": [],
   "source": [
    "def theorem_2(n_total, n, p1, p2, c):\n",
    "    i_a, i_b = n * p1**2, 8 * n_total * p2\n",
    "    ii_a, ii_b = n * p1**4, 1800 * c * math.log(n_total)\n",
    "    if i_a > i_b and ii_a > ii_b:\n",
    "        return True\n",
    "    else:\n",
    "        print(\"(i)\", i_a, \"!>\", i_b, \"\\tand/or\\t\", \"(ii)\", ii_a, \"!>\", ii_b)\n",
    "        return False"
   ]
  },
  {
   "cell_type": "code",
   "execution_count": 167,
   "metadata": {},
   "outputs": [
    {
     "name": "stdout",
     "output_type": "stream",
     "text": [
      "True 0.35069652411886504 0.0012811255419693094\n"
     ]
    }
   ],
   "source": [
    "n, k = 1000, 10\n",
    "n_total = n * k\n",
    "c = 0.00044\n",
    "c2 = 1.2\n",
    "p1 = c2 * (1800 * c * math.log(n_total) / n)**(1/4)\n",
    "p2 = 1/c2 * (n * p1**2) / (8 * n_total)\n",
    "print(theorem_2(n_total, n, p1, p2, c), p1, p2)"
   ]
  },
  {
   "cell_type": "code",
   "execution_count": 70,
   "metadata": {},
   "outputs": [
    {
     "name": "stdout",
     "output_type": "stream",
     "text": [
      "True \n",
      "p1 0.466 p2 0.02\n"
     ]
    }
   ],
   "source": [
    "##### n: number of nodes in each network; k: number of additional subnetworks\n",
    "n, k = 100, 1\n",
    "\n",
    "n_total = n * k\n",
    "# values that satisfy Theorem 2\n",
    "c, p1, p2 = 0.00044, 0.466, 0.02\n",
    "#values under more general conditions\n",
    "#c, p1, p2 = 2, (c * math.log(n_total)) / n_total, 0.6 / n_total\n",
    "#p1 = 0.3\n",
    "print(theorem_2(n_total, n, p1, p2, c), \"\\np1\", p1, \"p2\", p2)"
   ]
  },
  {
   "cell_type": "code",
   "execution_count": 46,
   "metadata": {},
   "outputs": [
    {
     "data": {
      "text/plain": [
       "0.0005555555555555556"
      ]
     },
     "execution_count": 46,
     "metadata": {},
     "output_type": "execute_result"
    }
   ],
   "source": [
    "1/1800"
   ]
  },
  {
   "cell_type": "code",
   "execution_count": null,
   "metadata": {},
   "outputs": [],
   "source": []
  }
 ],
 "metadata": {
  "kernelspec": {
   "display_name": "Python 3",
   "language": "python",
   "name": "python3"
  },
  "language_info": {
   "codemirror_mode": {
    "name": "ipython",
    "version": 3
   },
   "file_extension": ".py",
   "mimetype": "text/x-python",
   "name": "python",
   "nbconvert_exporter": "python",
   "pygments_lexer": "ipython3",
   "version": "3.7.3"
  }
 },
 "nbformat": 4,
 "nbformat_minor": 2
}
