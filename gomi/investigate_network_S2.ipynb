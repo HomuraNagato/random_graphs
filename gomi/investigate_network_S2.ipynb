{
 "cells": [
  {
   "cell_type": "markdown",
   "metadata": {},
   "source": [
    "# Investigate Network\n",
    "\n",
    "Version 3"
   ]
  },
  {
   "cell_type": "code",
   "execution_count": 1,
   "metadata": {},
   "outputs": [],
   "source": [
    "import networkx as nx\n",
    "import time\n",
    "import math\n",
    "import numpy as np\n",
    "import scipy.stats\n",
    "import scipy.linalg as la\n",
    "import itertools\n",
    "import matplotlib.pyplot as plt\n",
    "from matplotlib import animation\n",
    "\n",
    "from matplotlib.collections import LineCollection\n",
    "from fa2 import ForceAtlas2\n",
    "from data.curved_edges import *\n",
    "\n",
    "from mirai import *"
   ]
  },
  {
   "cell_type": "code",
   "execution_count": null,
   "metadata": {},
   "outputs": [],
   "source": [
    "def draw_graphS1(G, i, groups, leaders, labels, converged):\n",
    "\n",
    "    fig, ax = plt.subplots(figsize=(20,15))\n",
    "    \n",
    "    #pos = nx.spring_layout(G)\n",
    "    pos = nx.kamada_kawai_layout(G)\n",
    "    \n",
    "    # manually define border colors\n",
    "    lineWidthsList = [10] * len(groups)\n",
    "    lineWidthsList[-1] = 5\n",
    "    borderColorsList = ['orange', 'blue', 'olive', 'teal', 'cyan', 'navy', 'grey', 'apricot', 'lavender', 'pink'][:len(groups)]\n",
    "    borderColors = dict(zip(leaders.keys(), borderColorsList))\n",
    "    lineWidths = dict(zip(leaders.keys(), lineWidthsList))\n",
    "    \n",
    "    for lead_node, contiguous_nodes in leaders.items():\n",
    "        \n",
    "        contiguous_nodes = [ j for j in G.nodes if G.nodes[j]['contiguous'] == True ]\n",
    "        non_contiguous_nodes = [ node for node in G.nodes if node not in contiguous_nodes ]\n",
    "        contiguous_colors = [ cm.Pastel2(G.nodes[j]['random_label']) for j in G.nodes if j in contiguous_nodes ]\n",
    "        non_contiguous_colors = [ cm.Pastel2(G.nodes[j]['random_label']) for j in G.nodes if j in non_contiguous_nodes ]\n",
    "        \n",
    "        # color borders of nodes contiguous to community leader\n",
    "        # edgecolors = borderColors[lead_node], linewidths=lineWidths[lead_node], \n",
    "        nx.draw_networkx(G, pos=pos, nodelist = contiguous_nodes, node_shape = 'o',\n",
    "                     labels=labels, with_labels=True, node_color = contiguous_colors, \n",
    "                     alpha = 1, edgecolors = 'yellow', connectionstyle='arc3, rad=0.1',\n",
    "                     width=0.005, ax=ax)\n",
    "        \n",
    "        nx.draw_networkx(G, pos=pos, nodelist = non_contiguous_nodes, node_shape = 'o',\n",
    "                     labels=labels, with_labels=True, node_color = non_contiguous_colors,\n",
    "                     alpha = 0.5, connectionstyle='arc3, rad=0.1',\n",
    "                     width=0.005, ax=ax)\n",
    "        \n",
    "        # draw initial leaders\n",
    "        \n",
    "        nx.draw_networkx(G, pos=pos, nodelist = [lead_node], node_shape = 'o',\n",
    "                     labels=labels, with_labels=True, node_color = [cm.Pastel2(G.nodes[lead_node]['random_label'])], \n",
    "                     alpha = 1, edgecolors = borderColors[lead_node], linewidths = lineWidths[lead_node],\n",
    "                     width=0.005, ax=ax)\n",
    "        \n",
    "    ax.text(0.95, 0.95, \"n: \"+str(ni)+\"   groups: \"+str(len(groups)), ha=\"right\", va=\"top\", transform=plt.gca().transAxes)\n",
    "    ax.text(0.95, 0.90, \"step: \"+str(i), ha=\"right\", va=\"top\", transform=plt.gca().transAxes)\n",
    "    if converged:\n",
    "        ax.text(0.95, 0.85, \"converged!\", ha=\"right\", va=\"top\", transform=plt.gca().transAxes)\n",
    "\n",
    "    path = 'images/img' + format(i, '03d') + '.png'\n",
    "    plt.savefig(path)\n",
    "    plt.close()\n",
    "    \n",
    "    return None"
   ]
  },
  {
   "cell_type": "code",
   "execution_count": 2,
   "metadata": {},
   "outputs": [],
   "source": [
    "def prune_graph(G):\n",
    "    number_removed = 0 \n",
    "    G_temp = G.copy()\n",
    "    for node in G_temp.nodes:\n",
    "        if G.degree(node) == 0:\n",
    "            G.remove_node(node)\n",
    "            number_removed = number_removed + 1\n",
    "    print(\"pruned\", number_removed, \"nodes from the graph\")\n",
    "    return G"
   ]
  },
  {
   "cell_type": "code",
   "execution_count": 3,
   "metadata": {},
   "outputs": [],
   "source": [
    "def draw_graphS2(G, i, groups, leaders, labels, pos, converged):\n",
    "    \n",
    "    # Produce the curves and axis\n",
    "    fig, ax = plt.subplots(figsize=(20,20))\n",
    "    curves = curved_edges(G, pos)\n",
    "    lc = LineCollection(curves, color='grey', alpha=0.05)\n",
    "    \n",
    "    # nodes\n",
    "    leader_keys = list(leaders.keys())\n",
    "    # max 9\n",
    "    borderColorsList = ['orange', 'olive', 'teal', 'cyan', 'navy', 'grey', 'apricot', 'lavender', 'pink'][:len(leaders)]\n",
    "    contiguous_nodes = [ j for j in G.nodes if G.nodes[j]['contiguous'] == True ]\n",
    "    non_contiguous_nodes = [ node for node in G.nodes if node not in contiguous_nodes ]\n",
    "    \n",
    "    nx.draw_networkx_labels(G, pos, labels=labels)\n",
    "    \n",
    "    nx.draw_networkx_nodes(G, pos, nodelist = leader_keys,\n",
    "                           node_size=500, edgecolors = borderColorsList, linewidths = 10, node_color='red', alpha=0.8)\n",
    "    \n",
    "    nx.draw_networkx_nodes(G, pos, nodelist = contiguous_nodes,\n",
    "                           node_size=100, edgecolors = 'yellow', linewidths = 10, node_color='cyan', alpha=0.8)\n",
    "    \n",
    "    nx.draw_networkx_nodes(G, pos, nodelist = non_contiguous_nodes,\n",
    "                            node_size=100, node_color='cyan', alpha=0.8)\n",
    "    \n",
    "    # edges\n",
    "    plt.gca().add_collection(lc)\n",
    "    plt.tick_params(axis='both',which='both',bottom=False,left=False,labelbottom=False,labelleft=False)\n",
    "    \n",
    "    # text\n",
    "    ax.text(0.95, 0.95, \"n: \"+str(ni)+\"   groups: \"+str(len(groups)), ha=\"right\", va=\"top\", transform=plt.gca().transAxes)\n",
    "    ax.text(0.95, 0.90, \"step: \"+str(i), ha=\"right\", va=\"top\", transform=plt.gca().transAxes)\n",
    "    if converged:\n",
    "        ax.text(0.95, 0.85, \"converged!\", ha=\"right\", va=\"top\", transform=plt.gca().transAxes)\n",
    "\n",
    "    path = 'images/img' + format(i, '03d') + '.png'\n",
    "    plt.savefig(path)\n",
    "    #plt.show()\n",
    "    plt.close()"
   ]
  },
  {
   "cell_type": "code",
   "execution_count": 5,
   "metadata": {
    "scrolled": true
   },
   "outputs": [
    {
     "name": "stderr",
     "output_type": "stream",
     "text": [
      "100%|██████████| 50/50 [00:00<00:00, 1084.26it/s]"
     ]
    },
    {
     "name": "stdout",
     "output_type": "stream",
     "text": [
      "2 communities. p values True p: 0.5431215481815791 p': 0.015363594588497674 nq: 100 q: 0.31\n",
      "iteration attempt  1\n",
      "pruned 0 nodes from the graph\n"
     ]
    },
    {
     "name": "stderr",
     "output_type": "stream",
     "text": [
      "\n"
     ]
    },
    {
     "name": "stdout",
     "output_type": "stream",
     "text": [
      "BarnesHut Approximation  took  0.01  seconds\n",
      "Repulsion forces  took  0.02  seconds\n",
      "Gravitational forces  took  0.00  seconds\n",
      "Attraction forces  took  0.01  seconds\n",
      "AdjustSpeedAndApplyForces step  took  0.00  seconds\n",
      "convergence on step 1 ? False\n",
      "convergence on step 2 ? False\n",
      "convergence on step 3 ? False\n",
      "convergence on step 4 ? True\n",
      "convergence on step 5 ? True\n",
      "convergence on step 6 ? True\n",
      "convergence on step 7 ? True\n",
      "convergence on step 8 ? True\n",
      "convergence on step 9 ? True\n",
      "convergence on step 10 ? True\n",
      "convergence on step 11 ? True\n",
      "convergence on step 12 ? True\n",
      "convergence on step 13 ? True\n",
      "convergence on step 14 ? True\n",
      "convergence on step 15 ? True\n",
      "convergence on step 16 ? True\n",
      "convergence on step 17 ? False\n",
      "convergence on step 18 ? False\n",
      "convergence on step 19 ? False\n",
      "convergence on step 20 ? False\n",
      "convergence on step 21 ? False\n",
      "The program took 79.78784513473511 seconds to compute a graph of 2 clusters in 21 steps. Convergence: False\n"
     ]
    }
   ],
   "source": [
    "# n: number of nodes in each network; k: number of additional subnetworks\n",
    "ni, k = 100, 2\n",
    "n = ni * k\n",
    "\n",
    "# values under more general conditions\n",
    "#c, p1, p2 = 1, c * math.log(n) / n, 0.6 / n\n",
    "\n",
    "# theorem two values automatically calculated\n",
    "c, c2 = 0.00044, 1.2\n",
    "p1 = c2 * (1800 * c * math.log(n) / ni)**(1/4)\n",
    "p2 = 1/c2 * (ni * p1**2) / (8 * n)\n",
    "nq, q = ni * 1, 0.31\n",
    "print(k, \"communities. p values\", theorem_2(n, ni, p1, p2, c), \"p:\", p1, \"p':\", p2, \"nq:\", nq, \"q:\", q)\n",
    "\n",
    "draw = True\n",
    "interesting_graph = False\n",
    "iteration = 0\n",
    "m = 0\n",
    "stopping_time, ultimate_stopping_time = 20, 20\n",
    "start_time = time.time()\n",
    "\n",
    "i = 0 \n",
    "iteration = iteration + 1\n",
    "converged = False\n",
    "groups = np.arange(ni*k).reshape(k,ni)\n",
    "leaders = []\n",
    "\n",
    "print(\"iteration attempt \", iteration)\n",
    "    \n",
    "G = initialize_graph(ni, p1)\n",
    "    \n",
    "if k > 1:\n",
    "    for add_graph in range(k-1):\n",
    "        G = incorporate_graph(G, ni, p1, p2, k)\n",
    "            \n",
    "# add background noise\n",
    "G = incorporate_graph(G, nq, q, q, k)\n",
    "\n",
    "# prune nodes with no edges\n",
    "G = prune_graph(G)\n",
    "\n",
    "forceatlas2 = ForceAtlas2()\n",
    "pos = forceatlas2.forceatlas2_networkx_layout(G, pos=None, iterations=50)\n",
    "G_init = G.copy()\n",
    "\n",
    "while not converged or i <= stopping_time or i <= ultimate_stopping_time:\n",
    "    converged, leaders, labels = animate(G, i, groups, leaders, converged, p1)\n",
    "\n",
    "    if draw == True:\n",
    "        draw_graphS2(G, i, groups, leaders, labels, pos, converged)\n",
    "            \n",
    "    i = i + 1\n",
    "    m = i\n",
    "    print(\"convergence on step\", i, \"?\", converged)\n",
    "        \n",
    "    # break after more than stopping time / log(n) steps\n",
    "    \n",
    "    if i >= stopping_time:\n",
    "        break\n",
    "    \n",
    "    \n",
    "\n",
    "end_time = time.time()\n",
    "run_time = end_time - start_time\n",
    "print(\"The program took\", run_time, \"seconds to compute a graph of\", k, \"clusters in\", m, \"steps. Convergence:\", converged)\n",
    "nx.write_graphml(G_init, 'images/S2_n100_k' + str(k) + '.graphml')"
   ]
  },
  {
   "cell_type": "code",
   "execution_count": null,
   "metadata": {},
   "outputs": [],
   "source": [
    "adj_G = nx.adjacency_matrix(G).todense()\n",
    "eigen_val, eigen_vec = la.eig(adj_G)"
   ]
  },
  {
   "cell_type": "code",
   "execution_count": null,
   "metadata": {
    "scrolled": true
   },
   "outputs": [],
   "source": [
    "def path_length(G, N, p):\n",
    "    avg_degree = N * p\n",
    "    exp_avg_path = math.log(N) / math.log(avg_degree)\n",
    "    emp_avg_path = nx.average_shortest_path_length(G)\n",
    "    print(\"average path length\\nexpected:\", exp_avg_path,\"\\nempirical:\", emp_avg_path)\n",
    "\n",
    "def clustering_coefficient(G, p):\n",
    "    emp_clustering = nx.average_clustering(G)\n",
    "    print(\"clustering coefficient of a random erdos_renyi graph\\nexpected:\", p, \"\\nepirical:\", emp_clustering)\n",
    "    #print(\"expected:\", p)\n",
    "    #print(\"empirical:\", emp_clustering)\n",
    "\n",
    "def spectral_density(eigen_val):\n",
    "    rho = [None]*len(eigen_val)\n",
    "    x = [None]*len(eigen_val)\n",
    "    y = [None]*len(eigen_val)\n",
    "    for index, val in enumerate(eigen_val):\n",
    "        if abs(val) < 2 * math.sqrt(n * p * (1-p)):\n",
    "            rho[index] = math.sqrt(4 * n * p * (1-p) - val**2) / (2 * math.pi * n * p * (1-p))\n",
    "        else:\n",
    "            rho[index] = 0\n",
    "        x[index] = (val / math.sqrt(n * p * (1-p))).real\n",
    "        y[index] = (rho[index] * math.sqrt(n * p * (1-p))).real\n",
    "    xy = sorted(list(zip(x, y)), key = lambda tup: tup[0])\n",
    "    x, y = list(zip(*xy))\n",
    "    plt.plot(x, y, color='black', linewidth=0.8, dashes=[2,2,10,2])\n",
    "    plt.title(\"spectral density\")\n",
    "    return rho\n",
    "\n",
    "def empirical_rho(rho, eigen_val, N ,p):\n",
    "    emp_rho = [None]*len(eigen_val)\n",
    "    a = 10\n",
    "    avg_degree = N * p\n",
    "    for index, val in enumerate(eigen_val):\n",
    "        emp_rho[index] = val**(-2 * val**2 + a) * math.exp((1 + math.log(avg_degree)) * val**2)\n",
    "    for i in range(len(emp_rho)):\n",
    "        print(rho[i], emp_rho[i])\n",
    "\n",
    "expected_rho = spectral_density(eigen_val)\n",
    "empirical_rho(expected_rho, eigen_val, n, p1)\n",
    "path_length(G_view, n, p1)\n",
    "clustering_coefficient(G, p1)"
   ]
  },
  {
   "cell_type": "code",
   "execution_count": null,
   "metadata": {},
   "outputs": [],
   "source": [
    "# n: number of nodes in each network; k: number of additional subnetworks\n",
    "ni, k = 100, 1\n",
    "\n",
    "n = ni * k\n",
    "\n",
    "c, c2 = 0.00044, 1.2\n",
    "p1 = c2 * (1800 * c * math.log(n) / ni)**(1/4)\n",
    "p0 = c2 * (1800 * c * math.log(n) / ni)"
   ]
  },
  {
   "cell_type": "code",
   "execution_count": null,
   "metadata": {},
   "outputs": [],
   "source": [
    "p0, p1"
   ]
  },
  {
   "cell_type": "code",
   "execution_count": null,
   "metadata": {},
   "outputs": [],
   "source": [
    ".524-.044"
   ]
  },
  {
   "cell_type": "code",
   "execution_count": null,
   "metadata": {},
   "outputs": [],
   "source": [
    "np.arange(ni*).reshape(k,ni)"
   ]
  },
  {
   "cell_type": "code",
   "execution_count": null,
   "metadata": {},
   "outputs": [],
   "source": [
    "for node in G_view.nodes:\n",
    "    print(G_view.nodes[node])"
   ]
  },
  {
   "cell_type": "code",
   "execution_count": null,
   "metadata": {},
   "outputs": [],
   "source": []
  }
 ],
 "metadata": {
  "kernelspec": {
   "display_name": "Python 3",
   "language": "python",
   "name": "python3"
  },
  "language_info": {
   "codemirror_mode": {
    "name": "ipython",
    "version": 3
   },
   "file_extension": ".py",
   "mimetype": "text/x-python",
   "name": "python",
   "nbconvert_exporter": "python",
   "pygments_lexer": "ipython3",
   "version": "3.7.3"
  }
 },
 "nbformat": 4,
 "nbformat_minor": 2
}
